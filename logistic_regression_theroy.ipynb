{
 "cells": [
  {
   "cell_type": "code",
   "execution_count": 2,
   "metadata": {},
   "outputs": [
    {
     "data": {
      "text/plain": [
       "'\\nLogistic regression is a supervised machine learning algorithm which is used to solved the classification problems.\\nlogistic regression is used to predict the binary classifying outputs. and it works on decret data.\\nlinear regresion is used to predict the continous output. and it works on continous data.\\n'"
      ]
     },
     "execution_count": 2,
     "metadata": {},
     "output_type": "execute_result"
    }
   ],
   "source": [
    "#Q1. What is Logistic Regression, and how does it differ from Linear Regression.\n",
    "'''\n",
    "Logistic regression is a supervised machine learning algorithm which is used to solved the classification problems.\n",
    "logistic regression is used to predict the binary classifying outputs. and it works on decret data.\n",
    "linear regresion is used to predict the continous output. and it works on continous data.\n",
    "'''"
   ]
  },
  {
   "cell_type": "code",
   "execution_count": null,
   "metadata": {},
   "outputs": [],
   "source": [
    "#Q2. What is the mathematical equation of Logistic Regression.\n",
    "'''\n",
    "p(y=1/x)= 1/1+e -(β0 + β1x)\n",
    "'''"
   ]
  },
  {
   "cell_type": "code",
   "execution_count": null,
   "metadata": {},
   "outputs": [],
   "source": [
    "#Q3. Why do we use the Sigmoid function in Logistic Regression.\n",
    "'''\n",
    "sigmoid function is used in logistic regression to map predictions to probabilities.\n",
    "this is beacuase sigmoid function map any real number to value between 0 and 1. which is range the range of probabilities.\n",
    "'''"
   ]
  },
  {
   "cell_type": "code",
   "execution_count": null,
   "metadata": {},
   "outputs": [],
   "source": [
    "#Q4. What is the cost function of Logistic Regression.\n",
    "'''\n",
    "Y = -1/n (summation of(yi log yp + ((1-yi) log(1-yp))))\n",
    "'''"
   ]
  },
  {
   "cell_type": "code",
   "execution_count": null,
   "metadata": {},
   "outputs": [],
   "source": [
    "#Q5. What is Regularization in Logistic Regression? Why is it needed.\n",
    "'''\n",
    "in logistic regression there is three regularization methods : 1. lasso regularization  2. Ridge regularization \n",
    "3. Elastic Net\n",
    "\n",
    "lasso regularization (l1) is used for feature selection.\n",
    "ridge regularization (l2) is used to reduce the overfitting.\n",
    "elastic net regularization is combination of l1 and l2. \n",
    "'''"
   ]
  },
  {
   "cell_type": "code",
   "execution_count": null,
   "metadata": {},
   "outputs": [],
   "source": [
    "#Q6 Explain the difference between Lasso, Ridge, and Elastic Net regression\n",
    "'''\n",
    "lasso adds a penalty equal to the absolute value of coeffient to the cost function.\n",
    "this penalty term not only reduce size of coefficient but also shrink some coefficient to zero.\n",
    "this means lasso can efficiently perform feature selection.\n",
    "\n",
    "ridge add a penalty proportional to square value of coefficient. \n",
    "this penalty term called l2 regularization . it helps reduce size of coefficient making it liss sensitive to small fluctions in training data.\n",
    "ridge regularization reduce overfitting.\n",
    "\n",
    "elastic net is combination of lasso and ridge regularization , it can perform reduce the overffititng as well as feature selection \n",
    "'''"
   ]
  },
  {
   "cell_type": "code",
   "execution_count": 3,
   "metadata": {},
   "outputs": [
    {
     "data": {
      "text/plain": [
       "''"
      ]
     },
     "execution_count": 3,
     "metadata": {},
     "output_type": "execute_result"
    }
   ],
   "source": [
    "# Q7. When should we use Elastic Net instead of Lasso or Ridge.\n",
    "'''\n",
    "we used alstic net instead of lasso and ridge when tere are highly correlated features and we need feature selection with stability.\n",
    "'''\n"
   ]
  },
  {
   "cell_type": "code",
   "execution_count": null,
   "metadata": {},
   "outputs": [],
   "source": [
    "#Q8. What is the impact of the regularization parameter (λ) in Logistic Regression.\n",
    "'''\n",
    "when lanbda increases cost fuction also increases and minima shift.\n",
    "'''"
   ]
  },
  {
   "cell_type": "code",
   "execution_count": null,
   "metadata": {},
   "outputs": [],
   "source": [
    "#Q9. What are the key assumptions of Logistic Regression.\n",
    "'''\n",
    "1. Multicollinearity\n",
    "2. multiple target variables.\n",
    "3.independence error.\n",
    "4.independent observation.\n",
    "5.No perfect multicollinearity.\n",
    "'''"
   ]
  },
  {
   "cell_type": "code",
   "execution_count": null,
   "metadata": {},
   "outputs": [],
   "source": [
    "#Q10. What are some alternatives to Logistic Regression for classification tasks.\n",
    "'''\n",
    "1. Decision tree classifier\n",
    "2. Support vector classifier\n",
    "3. naive bayes\n",
    "4. gradient boosting methods\n",
    "'''"
   ]
  },
  {
   "cell_type": "code",
   "execution_count": null,
   "metadata": {},
   "outputs": [],
   "source": [
    "#Q11. What are Classification Evaluation Metrics.\n",
    "'''\n",
    "1. Accuracy\n",
    "2. Precision\n",
    "3. Recall\n",
    "4. F-Beta Score\n",
    "5. ROC - AUC \n",
    "6. Confusion Matrix\n",
    "7. True Positive Rate\n",
    "8. False possitive rate\n",
    "9. True Negative Rate\n",
    "'''"
   ]
  },
  {
   "cell_type": "code",
   "execution_count": null,
   "metadata": {},
   "outputs": [],
   "source": [
    "#Q12. How does class imbalance affect Logistic Regression.\n",
    "'''\n",
    "leading to biased estimates and poor generalization\n",
    "'''\n"
   ]
  },
  {
   "cell_type": "code",
   "execution_count": null,
   "metadata": {},
   "outputs": [],
   "source": [
    "#Q13. What is Hyperparameter Tuning in Logistic Regression.\n",
    "'''\n",
    "For hyperparameter tunning in logistic regression we used GridsearchCV and RandomizedSearchCV\n",
    "we done hyperparameter tunning using multiple penatly terms like L1 , L2 and Elastic Net\n",
    "\n",
    "'''"
   ]
  },
  {
   "cell_type": "code",
   "execution_count": null,
   "metadata": {},
   "outputs": [],
   "source": [
    "#Q14. What are different solvers in Logistic Regression? Which one should be used.\n",
    "'''\n",
    "1. liblinear - it is used for small to medium dataset \n",
    "2. SAG(stochastic average gradient) - it is suitable for large datasets. it uses stochastic gradient descent with an average of previous gradient.\n",
    "3. SAGA - A varient of SAG that also support non-smooth penalty(L1). its generally faster than SAG for large dataset.\n",
    "\n",
    "'''"
   ]
  },
  {
   "cell_type": "code",
   "execution_count": null,
   "metadata": {},
   "outputs": [],
   "source": [
    "#Q15. How is Logistic Regression extended for multiclass classification.\n",
    "'''\n",
    "for multiclass classification in logstic regression we used some methods such as One v Rest (OvR) and Multinomial method (softmax method)\n",
    "'''"
   ]
  },
  {
   "cell_type": "code",
   "execution_count": null,
   "metadata": {},
   "outputs": [],
   "source": [
    "#Q16. What are the advantages and disadvantages of Logistic Regression.\n",
    "'''\n",
    "Advatange: \n",
    "1. Using logistic regression we can solve binary class classification problem. \n",
    "2. less prone to overfitting.\n",
    "3. probabilistic prediction.\n",
    "4. Work well with small dataset.\n",
    "\n",
    "Disadvantage: \n",
    "1. Limit to linear decision boundaries.\n",
    "2. Not suitable for large feature space.\n",
    "3. Sensitive to outliers.\n",
    "4. Struggle with imbalance dataset. \n",
    "'''"
   ]
  },
  {
   "cell_type": "code",
   "execution_count": null,
   "metadata": {},
   "outputs": [],
   "source": [
    "#Q17. What are some use cases of Logistic Regression.\n",
    "'''\n",
    "Logistic regression is a machine learning algorithm that predicts the likelihood of a binary outcome. It can be used in many different industries, including finance, healthcare, marketing, and manufacturing. \n",
    "examples : spam detection , fraud detection , customer purchase detection\n",
    "'''"
   ]
  },
  {
   "cell_type": "code",
   "execution_count": null,
   "metadata": {},
   "outputs": [],
   "source": [
    "#Q18. What is the difference between Softmax Regression and Logistic Regression.\n",
    "'''\n",
    "Logistic regression is used for binary classification.\n",
    "logistic regression used sigmoid function.\n",
    "in logistic regression used binary cross entropy loss function.\n",
    "\n",
    "softmax regression is used for multiclass classification.\n",
    "softmax regression used softmax function.\n",
    "softmax regression used categorical cross entropy loss function\n",
    "'''"
   ]
  },
  {
   "cell_type": "code",
   "execution_count": null,
   "metadata": {},
   "outputs": [],
   "source": [
    "#Q19. How do we choose between One-vs-Rest (OvR) and Softmax for multiclass classification.\n",
    "'''\n",
    "One-vs-Rest :Train one binary classifier per class.\n",
    "Each classifier predicts whether a sample belongs to that class or not.\n",
    "The class with the highest probability wins.\n",
    "\n",
    "Softmax: Uses a single model with a softmax activation function to output probabilities for all classes at once.\n",
    "The sum of probabilities for all classes is 1.\n",
    "'''"
   ]
  },
  {
   "cell_type": "code",
   "execution_count": null,
   "metadata": {},
   "outputs": [],
   "source": [
    "#Q20. How do we interpret coefficients in Logistic Regression?\n",
    "'''\n",
    "In Logistic Regression, the coefficients represent the impact of each feature on the log-odds of the target variable. Since Logistic Regression predicts probabilities, we interpret the coefficients in terms of odds ratios rather than direct changes in the target variable.\n",
    "'''"
   ]
  }
 ],
 "metadata": {
  "kernelspec": {
   "display_name": "Python 3",
   "language": "python",
   "name": "python3"
  },
  "language_info": {
   "codemirror_mode": {
    "name": "ipython",
    "version": 3
   },
   "file_extension": ".py",
   "mimetype": "text/x-python",
   "name": "python",
   "nbconvert_exporter": "python",
   "pygments_lexer": "ipython3",
   "version": "3.12.1"
  }
 },
 "nbformat": 4,
 "nbformat_minor": 2
}
