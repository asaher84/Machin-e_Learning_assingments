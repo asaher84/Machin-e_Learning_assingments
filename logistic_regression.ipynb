{
 "cells": [
  {
   "cell_type": "code",
   "execution_count": 2,
   "metadata": {},
   "outputs": [
    {
     "data": {
      "text/plain": [
       "'\\nLogistic regression is a supervised machine learning algorithm which is used to solved the classification problems.\\nlogistic regression is used to predict the binary classifying outputs. and it works on decret data.\\nlinear regresion is used to predict the continous output. and it works on continous data.\\n'"
      ]
     },
     "execution_count": 2,
     "metadata": {},
     "output_type": "execute_result"
    }
   ],
   "source": [
    "#Q1. What is Logistic Regression, and how does it differ from Linear Regression.\n",
    "'''\n",
    "Logistic regression is a supervised machine learning algorithm which is used to solved the classification problems.\n",
    "logistic regression is used to predict the binary classifying outputs. and it works on decret data.\n",
    "linear regresion is used to predict the continous output. and it works on continous data.\n",
    "'''"
   ]
  },
  {
   "cell_type": "code",
   "execution_count": null,
   "metadata": {},
   "outputs": [],
   "source": [
    "#Q2. What is the mathematical equation of Logistic Regression.\n",
    "'''\n",
    "p(y=1/x)= 1/1+e -(β0 + β1x)\n",
    "'''"
   ]
  },
  {
   "cell_type": "code",
   "execution_count": null,
   "metadata": {},
   "outputs": [],
   "source": [
    "#Q3. Why do we use the Sigmoid function in Logistic Regression.\n",
    "'''\n",
    "sigmoid function is used in logistic regression to map predictions to probabilities.\n",
    "this is beacuase sigmoid function map any real number to value between 0 and 1. which is range the range of probabilities.\n",
    "'''"
   ]
  },
  {
   "cell_type": "code",
   "execution_count": null,
   "metadata": {},
   "outputs": [],
   "source": [
    "#Q4. What is the cost function of Logistic Regression.\n",
    "'''\n",
    "Y = -1/n (summation of(yi log yp + ((1-yi) log(1-yp))))\n",
    "'''"
   ]
  },
  {
   "cell_type": "code",
   "execution_count": null,
   "metadata": {},
   "outputs": [],
   "source": [
    "#Q5. What is Regularization in Logistic Regression? Why is it needed.\n",
    "'''\n",
    "in logistic regression there is three regularization methods : 1. lasso regularization  2. Ridge regularization \n",
    "3. Elastic Net\n",
    "\n",
    "lasso regularization (l1) is used for feature selection.\n",
    "ridge regularization (l2) is used to reduce the overfitting.\n",
    "elastic net regularization is combination of l1 and l2. \n",
    "'''"
   ]
  },
  {
   "cell_type": "code",
   "execution_count": null,
   "metadata": {},
   "outputs": [],
   "source": [
    "#Q6 Explain the difference between Lasso, Ridge, and Elastic Net regression\n",
    "'''\n",
    "lasso adds a penalty equal to the absolute value of coeffient to the cost function.\n",
    "this penalty term not only reduce size of coefficient but also shrink some coefficient to zero.\n",
    "this means lasso can efficiently perform feature selection.\n",
    "\n",
    "ridge add a penalty proportional to square value of coefficient. \n",
    "this penalty term called l2 regularization . it helps reduce size of coefficient making it liss sensitive to small fluctions in training data.\n",
    "ridge regularization reduce overfitting.\n",
    "\n",
    "elastic net is combination of lasso and ridge regularization , it can perform reduce the overffititng as well as feature selection \n",
    "'''"
   ]
  },
  {
   "cell_type": "code",
   "execution_count": 3,
   "metadata": {},
   "outputs": [
    {
     "data": {
      "text/plain": [
       "''"
      ]
     },
     "execution_count": 3,
     "metadata": {},
     "output_type": "execute_result"
    }
   ],
   "source": [
    "# Q7. When should we use Elastic Net instead of Lasso or Ridge.\n",
    "'''\n",
    "we used alstic net instead of lasso and ridge when tere are highly correlated features and we need feature selection with stability.\n",
    "'''\n"
   ]
  },
  {
   "cell_type": "code",
   "execution_count": null,
   "metadata": {},
   "outputs": [],
   "source": [
    "#Q8. What is the impact of the regularization parameter (λ) in Logistic Regression.\n",
    "'''\n",
    "when lanbda increases cost fuction also increases and minima shift.\n",
    "'''"
   ]
  },
  {
   "cell_type": "code",
   "execution_count": null,
   "metadata": {},
   "outputs": [],
   "source": [
    "#Q9. What are the key assumptions of Logistic Regression.\n",
    "'''\n",
    "1. Multicollinearity\n",
    "2. multiple target variables.\n",
    "3.independence error.\n",
    "4.independent observation.\n",
    "5.No perfect multicollinearity.\n",
    "'''"
   ]
  },
  {
   "cell_type": "code",
   "execution_count": null,
   "metadata": {},
   "outputs": [],
   "source": [
    "#Q10. What are some alternatives to Logistic Regression for classification tasks.\n",
    "'''\n",
    "1. Decision tree classifier\n",
    "2. Support vector classifier\n",
    "3. naive bayes\n",
    "4. gradient boosting methods\n",
    "'''"
   ]
  },
  {
   "cell_type": "code",
   "execution_count": null,
   "metadata": {},
   "outputs": [],
   "source": [
    "#Q11. What are Classification Evaluation Metrics.\n",
    "'''\n",
    "1. Accuracy\n",
    "2. Precision\n",
    "3. Recall\n",
    "4. F-Beta Score\n",
    "5. ROC - AUC \n",
    "6. Confusion Matrix\n",
    "7. True Positive Rate\n",
    "8. False possitive rate\n",
    "9. True Negative Rate\n",
    "'''"
   ]
  },
  {
   "cell_type": "code",
   "execution_count": null,
   "metadata": {},
   "outputs": [],
   "source": [
    "#Q12. How does class imbalance affect Logistic Regression.\n",
    "'''\n",
    "leading to biased estimates and poor generalization\n",
    "'''\n"
   ]
  },
  {
   "cell_type": "code",
   "execution_count": null,
   "metadata": {},
   "outputs": [],
   "source": [
    "#Q13. What is Hyperparameter Tuning in Logistic Regression.\n",
    "'''\n",
    "For hyperparameter tunning in logistic regression we used GridsearchCV and RandomizedSearchCV\n",
    "we done hyperparameter tunning using multiple penatly terms like L1 , L2 and Elastic Net\n",
    "\n",
    "'''"
   ]
  },
  {
   "cell_type": "code",
   "execution_count": null,
   "metadata": {},
   "outputs": [],
   "source": [
    "#Q14. What are different solvers in Logistic Regression? Which one should be used.\n",
    "'''\n",
    "1. liblinear - it is used for small to medium dataset \n",
    "2. SAG(stochastic average gradient) - it is suitable for large datasets. it uses stochastic gradient descent with an average of previous gradient.\n",
    "3. SAGA - A varient of SAG that also support non-smooth penalty(L1). its generally faster than SAG for large dataset.\n",
    "\n",
    "'''"
   ]
  },
  {
   "cell_type": "code",
   "execution_count": null,
   "metadata": {},
   "outputs": [],
   "source": [
    "#Q15. How is Logistic Regression extended for multiclass classification.\n",
    "'''\n",
    "for multiclass classification in logstic regression we used some methods such as One v Rest (OvR) and Multinomial method (softmax method)\n",
    "'''"
   ]
  },
  {
   "cell_type": "code",
   "execution_count": null,
   "metadata": {},
   "outputs": [],
   "source": [
    "#Q16. What are the advantages and disadvantages of Logistic Regression.\n",
    "'''\n",
    "Advatange: \n",
    "1. Using logistic regression we can solve binary class classification problem. \n",
    "2. less prone to overfitting.\n",
    "3. probabilistic prediction.\n",
    "4. Work well with small dataset.\n",
    "\n",
    "Disadvantage: \n",
    "1. Limit to linear decision boundaries.\n",
    "2. Not suitable for large feature space.\n",
    "3. Sensitive to outliers.\n",
    "4. Struggle with imbalance dataset. \n",
    "'''"
   ]
  },
  {
   "cell_type": "code",
   "execution_count": null,
   "metadata": {},
   "outputs": [],
   "source": [
    "#Q17. What are some use cases of Logistic Regression.\n",
    "'''\n",
    "Logistic regression is a machine learning algorithm that predicts the likelihood of a binary outcome. It can be used in many different industries, including finance, healthcare, marketing, and manufacturing. \n",
    "examples : spam detection , fraud detection , customer purchase detection\n",
    "'''"
   ]
  },
  {
   "cell_type": "code",
   "execution_count": null,
   "metadata": {},
   "outputs": [],
   "source": [
    "#Q18. What is the difference between Softmax Regression and Logistic Regression.\n",
    "'''\n",
    "Logistic regression is used for binary classification.\n",
    "logistic regression used sigmoid function.\n",
    "in logistic regression used binary cross entropy loss function.\n",
    "\n",
    "softmax regression is used for multiclass classification.\n",
    "softmax regression used softmax function.\n",
    "softmax regression used categorical cross entropy loss function\n",
    "'''"
   ]
  },
  {
   "cell_type": "code",
   "execution_count": null,
   "metadata": {},
   "outputs": [],
   "source": [
    "#Q19. How do we choose between One-vs-Rest (OvR) and Softmax for multiclass classification.\n",
    "'''\n",
    "One-vs-Rest :Train one binary classifier per class.\n",
    "Each classifier predicts whether a sample belongs to that class or not.\n",
    "The class with the highest probability wins.\n",
    "\n",
    "Softmax: Uses a single model with a softmax activation function to output probabilities for all classes at once.\n",
    "The sum of probabilities for all classes is 1.\n",
    "'''"
   ]
  },
  {
   "cell_type": "code",
   "execution_count": null,
   "metadata": {},
   "outputs": [],
   "source": [
    "#Q20. How do we interpret coefficients in Logistic Regression?\n",
    "'''\n",
    "In Logistic Regression, the coefficients represent the impact of each feature on the log-odds of the target variable. Since Logistic Regression predicts probabilities, we interpret the coefficients in terms of odds ratios rather than direct changes in the target variable.\n",
    "'''"
   ]
  },
  {
   "cell_type": "markdown",
   "metadata": {},
   "source": [
    "PRACTICLE\n"
   ]
  },
  {
   "cell_type": "code",
   "execution_count": null,
   "metadata": {},
   "outputs": [
    {
     "name": "stdout",
     "output_type": "stream",
     "text": [
      "0.925\n"
     ]
    }
   ],
   "source": [
    "#Q1. Write a Python program that loads a dataset, splits it into training and testing sets, applies Logistic Regression, and prints the model accuracy.\n",
    "from sklearn.datasets import make_classification\n",
    "from sklearn.model_selection import train_test_split\n",
    "from sklearn.linear_model import LogisticRegression\n",
    "from sklearn.metrics import accuracy_score\n",
    "\n",
    "x,y = make_classification(n_samples=1000,n_features=5 , n_classes=2,n_informative=3,random_state=2)\n",
    "\n",
    "x_train , x_test, y_train, y_test = train_test_split(x,y,test_size=0.2,random_state=2)\n",
    "model = LogisticRegression()\n",
    "model.fit(x_train , y_train)\n",
    "y_pred =model.predict(x_test)\n",
    "accuracy = accuracy_score(y_test , y_pred)\n",
    "print(accuracy)\n"
   ]
  },
  {
   "cell_type": "code",
   "execution_count": null,
   "metadata": {},
   "outputs": [
    {
     "name": "stdout",
     "output_type": "stream",
     "text": [
      "accuracy:  0.95\n"
     ]
    }
   ],
   "source": [
    "#Q2. Write a Python program to apply L1 regularization (Lasso) on a dataset using LogisticRegression(penalty='l1') and print the model accuracy\n",
    "x,y = make_classification(n_samples=100,n_classes=2,n_features=10)\n",
    "x_train,x_test, y_train ,y_test =train_test_split(x,y,test_size=0.2,random_state=2)\n",
    "model2 = LogisticRegression(penalty='l1',solver='saga',max_iter=10)\n",
    "model2.fit(x_train,y_train)\n",
    "y_pred = model2.predict(x_test)\n",
    "score1 = accuracy_score(y_test,y_pred)\n",
    "print('accuracy: ',score1)"
   ]
  },
  {
   "cell_type": "code",
   "execution_count": null,
   "metadata": {},
   "outputs": [
    {
     "name": "stdout",
     "output_type": "stream",
     "text": [
      "accuracy:  0.95\n",
      "coefficients: [[ 1.27688978 -0.21282118  0.11245052  0.34132639 -0.4411975   1.70952527\n",
      "  -0.00424256  1.10732792  0.12837505 -0.1627449 ]]\n"
     ]
    }
   ],
   "source": [
    "#Q3. Write a Python program to train Logistic Regression with L2 regularization (Ridge) using LogisticRegression(penalty='l2'). Print model accuracy and coefficients\n",
    "model1 = LogisticRegression(penalty='l2')\n",
    "model1.fit(x_train,y_train)\n",
    "y_pred = model1.predict(x_test)\n",
    "score = accuracy_score(y_test , y_pred)\n",
    "print('accuracy: ',score)\n",
    "print('coefficients:',model1.coef_)\n"
   ]
  },
  {
   "cell_type": "code",
   "execution_count": null,
   "metadata": {},
   "outputs": [
    {
     "name": "stdout",
     "output_type": "stream",
     "text": [
      "accuracy:  0.95\n"
     ]
    }
   ],
   "source": [
    "#Q4.  Write a Python program to train Logistic Regression with Elastic Net Regularization (penalty='elasticnet')\n",
    "model3 = LogisticRegression(penalty='elasticnet',solver='saga',l1_ratio=0.1)\n",
    "model3.fit(x_train,y_train)\n",
    "y_pred = model3.predict(x_test)\n",
    "score3 = accuracy_score(y_test,y_pred)\n",
    "print('accuracy: ',score3)"
   ]
  },
  {
   "cell_type": "code",
   "execution_count": null,
   "metadata": {},
   "outputs": [
    {
     "name": "stdout",
     "output_type": "stream",
     "text": [
      "accuracy:  0.835\n"
     ]
    }
   ],
   "source": [
    "#Q5. Write a Python program to train a Logistic Regression model for multiclass classification using multi_class='ovr'\n",
    "x,y = make_classification(n_samples=1000, n_classes= 3 , n_features= 10, n_informative= 8)\n",
    "x_train , x_test , y_train , y_test = train_test_split(x,y , test_size=0.2,random_state= 2)\n",
    "model4 = LogisticRegression(multi_class='ovr')\n",
    "model4.fit(x_train,y_train)\n",
    "y_pred = model4.predict(x_test)\n",
    "score = accuracy_score(y_test , y_pred)\n",
    "print('accuracy: ',score)"
   ]
  },
  {
   "cell_type": "code",
   "execution_count": null,
   "metadata": {},
   "outputs": [
    {
     "name": "stdout",
     "output_type": "stream",
     "text": [
      "best_parameter: {'C': 0.5, 'penalty': 'l2'}\n",
      "accuracy: 0.9654860660740369\n"
     ]
    }
   ],
   "source": [
    "#Q6.  Write a Python program to apply GridSearchCV to tune the hyperparameters (C and penalty) of Logistic Regression. Print the best parameters and accuracy\n",
    "from sklearn.model_selection import GridSearchCV\n",
    "import warnings\n",
    "warnings.filterwarnings('ignore')\n",
    "params = {\n",
    "    'penalty':['l1','l2','elasticnet'],\n",
    "    'C':[0.1,0.01,0.3,0.5]\n",
    "}\n",
    "clf = GridSearchCV(model,param_grid=params,scoring='average_precision')\n",
    "clf.fit(x_train,y_train)\n",
    "print('best_parameter:',clf.best_params_)\n",
    "print('accuracy:',clf.best_score_)\n"
   ]
  },
  {
   "cell_type": "code",
   "execution_count": null,
   "metadata": {},
   "outputs": [
    {
     "name": "stdout",
     "output_type": "stream",
     "text": [
      "Average Accuracy: 0.95\n"
     ]
    }
   ],
   "source": [
    "#Q7. Write a Python program to evaluate Logistic Regression using Stratified K-Fold Cross-Validation. Print the average accuracy\n",
    "import numpy as np\n",
    "from sklearn.model_selection import StratifiedKFold\n",
    "from sklearn.linear_model import LogisticRegression\n",
    "from sklearn.metrics import accuracy_score\n",
    "from sklearn.datasets import load_breast_cancer\n",
    "\n",
    "# Load dataset\n",
    "data = load_breast_cancer()\n",
    "X = data.data\n",
    "y = data.target\n",
    "\n",
    "# Initialize Stratified K-Fold\n",
    "skf = StratifiedKFold(n_splits=5, shuffle=True, random_state=42)\n",
    "\n",
    "# Initialize Logistic Regression\n",
    "model = LogisticRegression(max_iter=10000)\n",
    "\n",
    "accuracies = []\n",
    "\n",
    "# Perform Stratified K-Fold Cross-Validation\n",
    "for train_index, test_index in skf.split(X, y):\n",
    "    X_train, X_test = X[train_index], X[test_index]\n",
    "    y_train, y_test = y[train_index], y[test_index]\n",
    "    \n",
    "    model.fit(X_train, y_train)\n",
    "    y_pred = model.predict(X_test)\n",
    "    \n",
    "    accuracy = accuracy_score(y_test, y_pred)\n",
    "    accuracies.append(accuracy)\n",
    "\n",
    "# Calculate and print average accuracy\n",
    "average_accuracy = np.mean(accuracies)\n",
    "print(f'Average Accuracy: {average_accuracy:.2f}')\n",
    "\n"
   ]
  },
  {
   "cell_type": "code",
   "execution_count": null,
   "metadata": {},
   "outputs": [
    {
     "name": "stdout",
     "output_type": "stream",
     "text": [
      "Accuracy: 1.00\n"
     ]
    }
   ],
   "source": [
    "#Q8.  Write a Python program to load a dataset from a CSV file, apply Logistic Regression, and evaluate its accuracy.\n",
    "\n",
    "\n",
    "# Split the dataset into training and testing sets\n",
    "X_train, X_test, y_train, y_test = train_test_split(x, y, test_size=0.2, random_state=42)\n",
    "\n",
    "# Initialize Logistic Regression\n",
    "model = LogisticRegression(max_iter=10000)\n",
    "\n",
    "# Train the model\n",
    "model.fit(X_train, y_train)\n",
    "\n",
    "# Make predictions on the test set\n",
    "y_pred = model.predict(X_test)\n",
    "\n",
    "# Evaluate the accuracy\n",
    "accuracy = accuracy_score(y_test, y_pred)\n",
    "print(f'Accuracy: {accuracy:.2f}')\n"
   ]
  },
  {
   "cell_type": "code",
   "execution_count": null,
   "metadata": {},
   "outputs": [
    {
     "name": "stdout",
     "output_type": "stream",
     "text": [
      "best parameter:  {'solver': 'liblinear', 'penalty': 'l2', 'C': 0.1}\n",
      "accuracy:  0.5148432174531716\n"
     ]
    }
   ],
   "source": [
    "#Q9. Write a Python program to apply RandomizedSearchCV for tuning hyperparameters (C, penalty, solver) in Logistic Regression. Print the best parameters and accuracy\n",
    "# Ensure that the number of samples in X and y are the same\n",
    "x,y = make_classification(n_samples=1000,n_classes=2,n_informative=5,n_features=10)\n",
    "# if X.shape[0] != y.shape[0]:\n",
    "#     raise ValueError(f\"Mismatch in number of samples: {X.shape[0]} in X, {y.shape[0]} in y\")\n",
    "X_train, X_test, y_train, y_test = train_test_split(x, y, test_size=0.2, random_state=42)\n",
    "params = {\n",
    "    'penalty':['l1','l2','elasticnet'],\n",
    "    'C': [0.1,0.01,0.2,0.3,0.5,1],\n",
    "    'solver':['lbfgs', 'liblinear', 'newton-cg', 'sag', 'saga']\n",
    "}\n",
    "from sklearn.model_selection import RandomizedSearchCV\n",
    "clf = RandomizedSearchCV(model,param_distributions=params,scoring='precision')\n",
    "clf.fit(x_train,y_train)\n",
    "print('best parameter: ',clf.best_params_)\n",
    "print('accuracy: ',clf.best_score_)"
   ]
  },
  {
   "cell_type": "code",
   "execution_count": null,
   "metadata": {},
   "outputs": [
    {
     "name": "stdout",
     "output_type": "stream",
     "text": [
      "accuracy:  0.635\n"
     ]
    }
   ],
   "source": [
    "#Q10. Write a Python program to implement One-vs-One (OvO) Multiclass Logistic Regression and print accuracy\n",
    "x,y = make_classification(n_samples=1000, n_classes= 3 , n_features= 10, n_informative= 8)\n",
    "x_train , x_test , y_train , y_test = train_test_split(x,y , test_size=0.2,random_state= 2)\n",
    "model4 = LogisticRegression(multi_class='ovr')\n",
    "model4.fit(x_train,y_train)\n",
    "y_pred = model4.predict(x_test)\n",
    "score = accuracy_score(y_test , y_pred)\n",
    "print('accuracy: ',score)"
   ]
  },
  {
   "cell_type": "code",
   "execution_count": null,
   "metadata": {},
   "outputs": [
    {
     "data": {
      "text/plain": [
       "<Axes: >"
      ]
     },
     "metadata": {},
     "output_type": "display_data"
    },
    {
     "data": {
      "image/png": "[encoded data removed]",
      "text/plain": [
       "<Figure size 640x480 with 2 Axes>"
      ]
     },
     "metadata": {},
     "output_type": "display_data"
    }
   ],
   "source": [
    "#Q11.  Write a Python program to train a Logistic Regression model and visualize the confusion matrix for binary classification\n",
    "x,y = make_classification(n_samples=1000, n_classes=2 , n_features=4)\n",
    "x_train , x_test , y_train , y_test =train_test_split(x,y,test_size = 0.2,random_state=2)\n",
    "model = LogisticRegression()\n",
    "model.fit(x_train , y_train)\n",
    "y_pred = model.predict(x_test)\n",
    "\n",
    "import matplotlib as plt\n",
    "import seaborn as sns\n",
    "from sklearn.metrics import confusion_matrix\n",
    "score = confusion_matrix(y_test,y_pred)\n",
    "\n",
    "# plt.figure(figsize=(8,8))\n",
    "sns.heatmap(score,fmt='d',annot=True,cmap='Oranges',xticklabels=['predicted negative','predicted possitive'],yticklabels=['actual negative','actual possitive'])\n",
    "# plt.xlabel('predicted')\n",
    "# plt.ylabel('actual')\n",
    "# plt.title('confusion metrix')\n",
    "# plt.show()"
   ]
  },
  {
   "cell_type": "code",
   "execution_count": null,
   "metadata": {},
   "outputs": [
    {
     "name": "stdout",
     "output_type": "stream",
     "text": [
      "recall score:  0.9494949494949495\n",
      "precision score:  0.9306930693069307\n",
      "f1 score:  0.94\n"
     ]
    }
   ],
   "source": [
    "#Q12. Write a Python program to train a Logistic Regression model and evaluate its performance using Precision, Recall, and F1-Score\n",
    "from sklearn.metrics import recall_score,precision_score , f1_score\n",
    "score1 = recall_score(y_test,y_pred)\n",
    "score2 = precision_score(y_test , y_pred)\n",
    "score3 = f1_score(y_test,y_pred)\n",
    "print('recall score: ',score1)\n",
    "print('precision score: ',score2)\n",
    "print('f1 score: ',score3)"
   ]
  },
  {
   "cell_type": "code",
   "execution_count": null,
   "metadata": {},
   "outputs": [
    {
     "name": "stdout",
     "output_type": "stream",
     "text": [
      "Accuracy: 0.96\n",
      "Classification Report:\n",
      "              precision    recall  f1-score   support\n",
      "\n",
      "           0       1.00      0.96      0.98       186\n",
      "           1       0.67      1.00      0.80        14\n",
      "\n",
      "    accuracy                           0.96       200\n",
      "   macro avg       0.83      0.98      0.89       200\n",
      "weighted avg       0.98      0.96      0.97       200\n",
      "\n"
     ]
    }
   ],
   "source": [
    "#Q13.  Write a Python program to train a Logistic Regression model on imbalanced data and apply class weights to improve model performance\n",
    "from sklearn.metrics import accuracy_score, classification_report\n",
    "from sklearn.datasets import make_classification\n",
    "\n",
    "# Generate an imbalanced dataset (for example purposes)\n",
    "X, y = make_classification(n_samples=1000, n_features=20, n_informative=2, n_redundant=10, n_clusters_per_class=1,\n",
    "                           weights=[0.9, 0.1], flip_y=0, random_state=42)\n",
    "\n",
    "# Split the dataset into training and testing sets\n",
    "X_train, X_test, y_train, y_test = train_test_split(X, y, test_size=0.2, random_state=42)\n",
    "\n",
    "# Initialize Logistic Regression with class weights\n",
    "model = LogisticRegression(class_weight='balanced', max_iter=10000)\n",
    "\n",
    "# Train the model\n",
    "model.fit(X_train, y_train)\n",
    "\n",
    "# Make predictions on the test set\n",
    "y_pred = model.predict(X_test)\n",
    "\n",
    "# Evaluate the accuracy and other metrics\n",
    "accuracy = accuracy_score(y_test, y_pred)\n",
    "report = classification_report(y_test, y_pred)\n",
    "\n",
    "print(f'Accuracy: {accuracy:.2f}')\n",
    "print('Classification Report:')\n",
    "print(report)\n"
   ]
  },
  {
   "cell_type": "code",
   "execution_count": null,
   "metadata": {},
   "outputs": [
    {
     "name": "stdout",
     "output_type": "stream",
     "text": [
      "<class 'pandas.core.frame.DataFrame'>\n",
      "RangeIndex: 891 entries, 0 to 890\n",
      "Data columns (total 15 columns):\n",
      " #   Column       Non-Null Count  Dtype  \n",
      "---  ------       --------------  -----  \n",
      " 0   survived     891 non-null    int64  \n",
      " 1   pclass       891 non-null    int64  \n",
      " 2   sex          891 non-null    object \n",
      " 3   age          714 non-null    float64\n",
      " 4   sibsp        891 non-null    int64  \n",
      " 5   parch        891 non-null    int64  \n",
      " 6   fare         891 non-null    float64\n",
      " 7   embarked     889 non-null    object \n",
      " 8   class        891 non-null    object \n",
      " 9   who          891 non-null    object \n",
      " 10  adult_male   891 non-null    bool   \n",
      " 11  deck         203 non-null    object \n",
      " 12  embark_town  889 non-null    object \n",
      " 13  alive        891 non-null    object \n",
      " 14  alone        891 non-null    bool   \n",
      "dtypes: bool(2), float64(2), int64(4), object(7)\n",
      "memory usage: 92.4+ KB\n",
      "accuracy:  70.94972067039106\n"
     ]
    }
   ],
   "source": [
    "#Q14. Write a Python program to train Logistic Regression on the Titanic dataset, handle missing values, and evaluate performance\n",
    "import seaborn as sns\n",
    "df = sns.load_dataset('Titanic')\n",
    "df.info()\n",
    "df.isnull().sum()\n",
    "df.drop('deck',inplace=True,axis = 1)\n",
    "df.age.fillna(df['age'].mean(),inplace=True)\n",
    "df.embarked.fillna(df['embarked'].mode()[0],inplace=True)\n",
    "df.embark_town.fillna(df['embark_town'].mode()[0],inplace=True)\n",
    "x = df.drop('survived',axis=1)\n",
    "y = df['survived']\n",
    "from sklearn.preprocessing import LabelEncoder\n",
    "\n",
    "\n",
    "\n",
    "label_columns = ['sex','embarked','class','who','adult_male','embark_town','alive','alone']\n",
    "for col in label_columns:\n",
    "    le = LabelEncoder()\n",
    "    x[col] = le.fit_transform(x[col])\n",
    "\n",
    "x_train , x_test , y_train , y_test = train_test_split(x,y,test_size=0.2,random_state=42)\n",
    "from sklearn.linear_model import LogisticRegression\n",
    "model = LogisticRegression(penalty='l2',solver='sag')\n",
    "model.fit(x_train,y_train)\n",
    "y_pred = model.predict(x_test)\n",
    "score = accuracy_score(y_test,y_pred)\n",
    "print('accuracy: ',score*100)"
   ]
  },
  {
   "cell_type": "code",
   "execution_count": null,
   "metadata": {},
   "outputs": [
    {
     "name": "stdout",
     "output_type": "stream",
     "text": [
      "100.0\n"
     ]
    }
   ],
   "source": [
    "#Q15.  Write a Python program to apply feature scaling (Standardization) before training a Logistic Regression model. Evaluate its accuracy and compare results with and without scaling\n",
    "from sklearn.preprocessing import StandardScaler\n",
    "std = StandardScaler()\n",
    "model = LogisticRegression()\n",
    "x_train_scaler = std.fit_transform(x_train)\n",
    "model.fit(x_train_scaler,y_train)\n",
    "\n",
    "\n",
    "x_test_scaler = std.transform(x_test)\n",
    "y_pred = model.predict(x_test_scaler)\n",
    "\n",
    "score = accuracy_score(y_test,y_pred)\n",
    "print(score*100)"
   ]
  },
  {
   "cell_type": "code",
   "execution_count": null,
   "metadata": {},
   "outputs": [
    {
     "name": "stdout",
     "output_type": "stream",
     "text": [
      "ROC-AUC Score:  100.0\n"
     ]
    }
   ],
   "source": [
    "#Q16. Write a Python program to train Logistic Regression and evaluate its performance using ROC-AUC score\n",
    "from sklearn.metrics import roc_auc_score\n",
    "r_a_score = roc_auc_score(y_test,y_pred)\n",
    "print('ROC-AUC Score: ',r_a_score*100)"
   ]
  },
  {
   "cell_type": "code",
   "execution_count": null,
   "metadata": {},
   "outputs": [
    {
     "name": "stdout",
     "output_type": "stream",
     "text": [
      "Accuracy:  1.0\n"
     ]
    }
   ],
   "source": [
    "#Q17. Write a Python program to train Logistic Regression using a custom learning rate (C=0.5) and evaluate accuracy\n",
    "model = LogisticRegression(C=0.5)\n",
    "model.fit(x_train,y_train)\n",
    "y_pred = model.predict(x_test)\n",
    "score = accuracy_score(y_test,y_pred)\n",
    "print('Accuracy: ',score)"
   ]
  },
  {
   "cell_type": "code",
   "execution_count": null,
   "metadata": {},
   "outputs": [],
   "source": [
    "#Q18.  Write a Python program to train Logistic Regression and identify important features based on model coefficients\n",
    "# Import necessary libraries\n",
    "import seaborn as sns\n",
    "import pandas as pd\n",
    "import numpy as np\n",
    "\n",
    "from sklearn.model_selection import train_test_split\n",
    "from sklearn.preprocessing import LabelEncoder, StandardScaler\n",
    "from sklearn.linear_model import LogisticRegression\n",
    "from sklearn.metrics import accuracy_score\n",
    "\n",
    "# Load the Titanic dataset\n",
    "df = sns.load_dataset('titanic')\n",
    "\n",
    "# Data preprocessing\n",
    "\n",
    "# Drop unnecessary columns\n",
    "df.drop(columns=['deck', 'embark_town', 'class', 'alone'], inplace=True)\n",
    "\n",
    "# Handle missing values\n",
    "df['age'].fillna(df['age'].median(), inplace=True)  # Use median to handle outliers\n",
    "df['embarked'].fillna(df['embarked'].mode()[0], inplace=True)  # Fill missing embarked with mode\n",
    "\n",
    "# Encode categorical variables\n",
    "\n",
    "# # Feature engineering (optional)\n",
    "# # Create a family size feature\n",
    "# df['family_size'] = df['sibsp'] + df['parch'] + 1  # Include the passenger themselves\n",
    "\n",
    "# Define features and target variable\n",
    "x = df.drop('survived', axis=1)\n",
    "y = df['survived']\n",
    "\n",
    "label_cols = ['sex', 'embarked', 'who', 'adult_male', 'alive', 'embark_town']\n",
    "for col in label_cols:\n",
    "    le = LabelEncoder()\n",
    "    x[col] = le.fit_transform(x[col])\n",
    "\n",
    "\n",
    "# Feature scaling\n",
    "scaler = StandardScaler()\n",
    "X_scaled = scaler.fit_transform(X)\n",
    "\n",
    "# Split the dataset into training and testing sets\n",
    "x_train, x_test, y_train, y_test = train_test_split(\n",
    "    X_scaled, y, test_size=0.2, random_state=42)\n",
    "\n",
    "# Initialize and train Logistic Regression model\n",
    "model = LogisticRegression(max_iter=1000)\n",
    "model.fit(x_train, y_train)\n",
    "\n",
    "# Make predictions on the test set\n",
    "y_pred = model.predict(x_test)\n",
    "\n",
    "# Evaluate the model's accuracy\n",
    "accuracy = accuracy_score(y_test, y_pred)\n",
    "print(f'Accuracy: {accuracy * 100:.2f}%')\n",
    "\n",
    "# Identify important features based on model coefficients\n",
    "coefficients = model.coef_[0]\n",
    "features = X.columns\n",
    "\n",
    "# Create a DataFrame to display feature importance\n",
    "feature_importance = pd.DataFrame({\n",
    "    'Feature': features,\n",
    "    'Coefficient': coefficients,\n",
    "    'Absolute Coefficient': np.abs(coefficients)\n",
    "})\n",
    "\n",
    "# Sort the features by the absolute value of the coefficients\n",
    "feature_importance.sort_values(by='Absolute Coefficient', ascending=False, inplace=True)\n",
    "\n",
    "print('\\nFeature Importance (from most to least important):')\n",
    "print(feature_importance[['Feature', 'Coefficient']])\n",
    "\n"
   ]
  },
  {
   "cell_type": "code",
   "execution_count": null,
   "metadata": {},
   "outputs": [
    {
     "name": "stdout",
     "output_type": "stream",
     "text": [
      "Cohen's Kappa Score:  1.0\n"
     ]
    }
   ],
   "source": [
    "#Q19. Write a Python program to train Logistic Regression and evaluate its performance using Cohen’s Kappa Score\n",
    "from sklearn.metrics import cohen_kappa_score\n",
    "score = cohen_kappa_score(y_test,y_pred)\n",
    "print(\"Cohen's Kappa Score: \",score)"
   ]
  },
  {
   "cell_type": "code",
   "execution_count": null,
   "metadata": {},
   "outputs": [
    {
     "data": {
      "image/png": "[encoded data removed]",
      "text/plain": [
       "<Figure size 800x600 with 1 Axes>"
      ]
     },
     "metadata": {},
     "output_type": "display_data"
    }
   ],
   "source": [
    "#Q20.  Write a Python program to train Logistic Regression and visualize the Precision-Recall Curve for binary classification\n",
    "import matplotlib.pyplot as plt\n",
    "from sklearn.metrics import precision_recall_curve,average_precision_score\n",
    "precision,recall,_ = precision_recall_curve(y_test,y_pred)\n",
    "avg_precision = average_precision_score(y_test,y_pred)\n",
    "plt.figure(figsize=(8,6))\n",
    "plt.plot(precision,recall , marker='.',label= f\"Logistic Regression (AP = {avg_precision:.2f}\")\n",
    "plt.xlabel('precision')\n",
    "plt.ylabel('recall')\n",
    "plt.legend()\n",
    "plt.title('precision-recall score')\n",
    "plt.show()"
   ]
  },
  {
   "cell_type": "code",
   "execution_count": null,
   "metadata": {},
   "outputs": [
    {
     "name": "stdout",
     "output_type": "stream",
     "text": [
      "Solver: liblinear, Accuracy: 100.00\n",
      "Solver: saga, Accuracy: 69.27\n",
      "Solver: lbfgs, Accuracy: 100.00\n"
     ]
    }
   ],
   "source": [
    "#Q21. Write a Python program to train Logistic Regression with different solvers (liblinear, saga, lbfgs) and compare their accuracy\n",
    "solvers = ['liblinear','saga','lbfgs']\n",
    "\n",
    "for solv in solvers:\n",
    "    model = LogisticRegression(solver=solv)\n",
    "    model.fit(x_train,y_train)\n",
    "    y_pred = model.predict(x_test)\n",
    "    score = accuracy_score(y_test,y_pred)\n",
    "    \n",
    "    print(f\"Solver: {solv}, Accuracy: {score*100:.2f}\")\n"
   ]
  },
  {
   "cell_type": "code",
   "execution_count": null,
   "metadata": {},
   "outputs": [
    {
     "name": "stdout",
     "output_type": "stream",
     "text": [
      "MCC:  1.0\n"
     ]
    }
   ],
   "source": [
    "#Q22. Write a Python program to train Logistic Regression and evaluate its performance using Matthews Correlation Coefficient (MCC)\n",
    "from sklearn.metrics import matthews_corrcoef\n",
    "score = matthews_corrcoef(y_test,y_pred)\n",
    "print('MCC: ',score)"
   ]
  },
  {
   "cell_type": "code",
   "execution_count": null,
   "metadata": {},
   "outputs": [
    {
     "name": "stdout",
     "output_type": "stream",
     "text": [
      "Accuracy on raw data: 70.95\n",
      "Accuracy on standardized data: 100.00\n"
     ]
    }
   ],
   "source": [
    "#Q23. Write a Python program to train Logistic Regression on both raw and standardized data. Compare their accuracy to see the impact of feature scaling\n",
    "from sklearn.preprocessing import StandardScaler\n",
    "std = StandardScaler()\n",
    "x_train_scaler = std.fit_transform(x_train)\n",
    "x_test_scaler = std.transform(x_test)\n",
    "\n",
    "model.fit(x_train_scaler,y_train)\n",
    "y_pred = model.predict(x_test_scaler)\n",
    "score1 = accuracy_score(y_test,y_pred)\n",
    "\n",
    "model.fit(x_train , y_train)\n",
    "y_pred1 =model.predict(x_test)\n",
    "score2 = accuracy_score(y_test,y_pred1)\n",
    "\n",
    "print(f\"Accuracy on raw data: {score2*100:.2f}\")\n",
    "print(f\"Accuracy on standardized data: {score1*100:.2f}\")"
   ]
  },
  {
   "cell_type": "code",
   "execution_count": null,
   "metadata": {},
   "outputs": [
    {
     "name": "stdout",
     "output_type": "stream",
     "text": [
      "Optimal C (regularization strength): 0.01\n",
      "Accuracy with optimal C: 0.8500\n"
     ]
    }
   ],
   "source": [
    "#Q24. Write a Python program to train Logistic Regression and find the optimal C (regularization strength) using cross-validation\n",
    "import numpy as np\n",
    "from sklearn.datasets import make_classification\n",
    "from sklearn.linear_model import LogisticRegression\n",
    "from sklearn.model_selection import GridSearchCV, train_test_split\n",
    "from sklearn.metrics import accuracy_score\n",
    "\n",
    "X, y = make_classification(n_samples=1000, n_features=20, n_classes=2, random_state=42)\n",
    "\n",
    "X_train, X_test, y_train, y_test = train_test_split(X, y, test_size=0.3, random_state=42)\n",
    "log_reg = LogisticRegression(max_iter=10000)\n",
    "\n",
    "param_grid = {'C': [0.01, 0.1, 1, 10, 100]}\n",
    "\n",
    "grid_search = GridSearchCV(log_reg, param_grid, cv=5, scoring='accuracy')\n",
    "grid_search.fit(X_train, y_train)\n",
    "\n",
    "best_C = grid_search.best_params_['C']\n",
    "print(f\"Optimal C (regularization strength): {best_C}\")\n",
    "\n",
    "# Train and evaluate the model with the best C\n",
    "best_log_reg = LogisticRegression(C=best_C, max_iter=10000)\n",
    "best_log_reg.fit(X_train, y_train)\n",
    "y_pred = best_log_reg.predict(X_test)\n",
    "accuracy = accuracy_score(y_test, y_pred)\n",
    "print(f\"Accuracy with optimal C: {accuracy:.4f}\")\n"
   ]
  },
  {
   "cell_type": "code",
   "execution_count": null,
   "metadata": {},
   "outputs": [
    {
     "data": {
      "text/plain": [
       "['model.joblib']"
      ]
     },
     "metadata": {},
     "output_type": "display_data"
    }
   ],
   "source": [
    "#Q25. Write a Python program to train Logistic Regression, save the trained model using joblib, and load it again to make predictions\n",
    "import joblib\n",
    "model\n",
    "joblib.dump(model,'model.joblib')\n"
   ]
  },
  {
   "cell_type": "code",
   "execution_count": null,
   "metadata": {},
   "outputs": [],
   "source": [
    "model2 = joblib.load('model.joblib')"
   ]
  },
  {
   "cell_type": "code",
   "execution_count": null,
   "metadata": {},
   "outputs": [
    {
     "data": {
      "text/html": [
       "<style>#sk-container-id-2 {\n",
       "  /* Definition of color scheme common for light and dark mode */\n",
       "  --sklearn-color-text: black;\n",
       "  --sklearn-color-line: gray;\n",
       "  /* Definition of color scheme for unfitted estimators */\n",
       "  --sklearn-color-unfitted-level-0: #fff5e6;\n",
       "  --sklearn-color-unfitted-level-1: #f6e4d2;\n",
       "  --sklearn-color-unfitted-level-2: #ffe0b3;\n",
       "  --sklearn-color-unfitted-level-3: chocolate;\n",
       "  /* Definition of color scheme for fitted estimators */\n",
       "  --sklearn-color-fitted-level-0: #f0f8ff;\n",
       "  --sklearn-color-fitted-level-1: #d4ebff;\n",
       "  --sklearn-color-fitted-level-2: #b3dbfd;\n",
       "  --sklearn-color-fitted-level-3: cornflowerblue;\n",
       "\n",
       "  /* Specific color for light theme */\n",
       "  --sklearn-color-text-on-default-background: var(--sg-text-color, var(--theme-code-foreground, var(--jp-content-font-color1, black)));\n",
       "  --sklearn-color-background: var(--sg-background-color, var(--theme-background, var(--jp-layout-color0, white)));\n",
       "  --sklearn-color-border-box: var(--sg-text-color, var(--theme-code-foreground, var(--jp-content-font-color1, black)));\n",
       "  --sklearn-color-icon: #696969;\n",
       "\n",
       "  @media (prefers-color-scheme: dark) {\n",
       "    /* Redefinition of color scheme for dark theme */\n",
       "    --sklearn-color-text-on-default-background: var(--sg-text-color, var(--theme-code-foreground, var(--jp-content-font-color1, white)));\n",
       "    --sklearn-color-background: var(--sg-background-color, var(--theme-background, var(--jp-layout-color0, #111)));\n",
       "    --sklearn-color-border-box: var(--sg-text-color, var(--theme-code-foreground, var(--jp-content-font-color1, white)));\n",
       "    --sklearn-color-icon: #878787;\n",
       "  }\n",
       "}\n",
       "\n",
       "#sk-container-id-2 {\n",
       "  color: var(--sklearn-color-text);\n",
       "}\n",
       "\n",
       "#sk-container-id-2 pre {\n",
       "  padding: 0;\n",
       "}\n",
       "\n",
       "#sk-container-id-2 input.sk-hidden--visually {\n",
       "  border: 0;\n",
       "  clip: rect(1px 1px 1px 1px);\n",
       "  clip: rect(1px, 1px, 1px, 1px);\n",
       "  height: 1px;\n",
       "  margin: -1px;\n",
       "  overflow: hidden;\n",
       "  padding: 0;\n",
       "  position: absolute;\n",
       "  width: 1px;\n",
       "}\n",
       "\n",
       "#sk-container-id-2 div.sk-dashed-wrapped {\n",
       "  border: 1px dashed var(--sklearn-color-line);\n",
       "  margin: 0 0.4em 0.5em 0.4em;\n",
       "  box-sizing: border-box;\n",
       "  padding-bottom: 0.4em;\n",
       "  background-color: var(--sklearn-color-background);\n",
       "}\n",
       "\n",
       "#sk-container-id-2 div.sk-container {\n",
       "  /* jupyter's `normalize.less` sets `[hidden] { display: none; }`\n",
       "     but bootstrap.min.css set `[hidden] { display: none !important; }`\n",
       "     so we also need the `!important` here to be able to override the\n",
       "     default hidden behavior on the sphinx rendered scikit-learn.org.\n",
       "     See: https://github.com/scikit-learn/scikit-learn/issues/21755 */\n",
       "  display: inline-block !important;\n",
       "  position: relative;\n",
       "}\n",
       "\n",
       "#sk-container-id-2 div.sk-text-repr-fallback {\n",
       "  display: none;\n",
       "}\n",
       "\n",
       "div.sk-parallel-item,\n",
       "div.sk-serial,\n",
       "div.sk-item {\n",
       "  /* draw centered vertical line to link estimators */\n",
       "  background-image: linear-gradient(var(--sklearn-color-text-on-default-background), var(--sklearn-color-text-on-default-background));\n",
       "  background-size: 2px 100%;\n",
       "  background-repeat: no-repeat;\n",
       "  background-position: center center;\n",
       "}\n",
       "\n",
       "/* Parallel-specific style estimator block */\n",
       "\n",
       "#sk-container-id-2 div.sk-parallel-item::after {\n",
       "  content: \"\";\n",
       "  width: 100%;\n",
       "  border-bottom: 2px solid var(--sklearn-color-text-on-default-background);\n",
       "  flex-grow: 1;\n",
       "}\n",
       "\n",
       "#sk-container-id-2 div.sk-parallel {\n",
       "  display: flex;\n",
       "  align-items: stretch;\n",
       "  justify-content: center;\n",
       "  background-color: var(--sklearn-color-background);\n",
       "  position: relative;\n",
       "}\n",
       "\n",
       "#sk-container-id-2 div.sk-parallel-item {\n",
       "  display: flex;\n",
       "  flex-direction: column;\n",
       "}\n",
       "\n",
       "#sk-container-id-2 div.sk-parallel-item:first-child::after {\n",
       "  align-self: flex-end;\n",
       "  width: 50%;\n",
       "}\n",
       "\n",
       "#sk-container-id-2 div.sk-parallel-item:last-child::after {\n",
       "  align-self: flex-start;\n",
       "  width: 50%;\n",
       "}\n",
       "\n",
       "#sk-container-id-2 div.sk-parallel-item:only-child::after {\n",
       "  width: 0;\n",
       "}\n",
       "\n",
       "/* Serial-specific style estimator block */\n",
       "\n",
       "#sk-container-id-2 div.sk-serial {\n",
       "  display: flex;\n",
       "  flex-direction: column;\n",
       "  align-items: center;\n",
       "  background-color: var(--sklearn-color-background);\n",
       "  padding-right: 1em;\n",
       "  padding-left: 1em;\n",
       "}\n",
       "\n",
       "\n",
       "/* Toggleable style: style used for estimator/Pipeline/ColumnTransformer box that is\n",
       "clickable and can be expanded/collapsed.\n",
       "- Pipeline and ColumnTransformer use this feature and define the default style\n",
       "- Estimators will overwrite some part of the style using the `sk-estimator` class\n",
       "*/\n",
       "\n",
       "/* Pipeline and ColumnTransformer style (default) */\n",
       "\n",
       "#sk-container-id-2 div.sk-toggleable {\n",
       "  /* Default theme specific background. It is overwritten whether we have a\n",
       "  specific estimator or a Pipeline/ColumnTransformer */\n",
       "  background-color: var(--sklearn-color-background);\n",
       "}\n",
       "\n",
       "/* Toggleable label */\n",
       "#sk-container-id-2 label.sk-toggleable__label {\n",
       "  cursor: pointer;\n",
       "  display: block;\n",
       "  width: 100%;\n",
       "  margin-bottom: 0;\n",
       "  padding: 0.5em;\n",
       "  box-sizing: border-box;\n",
       "  text-align: center;\n",
       "}\n",
       "\n",
       "#sk-container-id-2 label.sk-toggleable__label-arrow:before {\n",
       "  /* Arrow on the left of the label */\n",
       "  content: \"▸\";\n",
       "  float: left;\n",
       "  margin-right: 0.25em;\n",
       "  color: var(--sklearn-color-icon);\n",
       "}\n",
       "\n",
       "#sk-container-id-2 label.sk-toggleable__label-arrow:hover:before {\n",
       "  color: var(--sklearn-color-text);\n",
       "}\n",
       "\n",
       "/* Toggleable content - dropdown */\n",
       "\n",
       "#sk-container-id-2 div.sk-toggleable__content {\n",
       "  max-height: 0;\n",
       "  max-width: 0;\n",
       "  overflow: hidden;\n",
       "  text-align: left;\n",
       "  /* unfitted */\n",
       "  background-color: var(--sklearn-color-unfitted-level-0);\n",
       "}\n",
       "\n",
       "#sk-container-id-2 div.sk-toggleable__content.fitted {\n",
       "  /* fitted */\n",
       "  background-color: var(--sklearn-color-fitted-level-0);\n",
       "}\n",
       "\n",
       "#sk-container-id-2 div.sk-toggleable__content pre {\n",
       "  margin: 0.2em;\n",
       "  border-radius: 0.25em;\n",
       "  color: var(--sklearn-color-text);\n",
       "  /* unfitted */\n",
       "  background-color: var(--sklearn-color-unfitted-level-0);\n",
       "}\n",
       "\n",
       "#sk-container-id-2 div.sk-toggleable__content.fitted pre {\n",
       "  /* unfitted */\n",
       "  background-color: var(--sklearn-color-fitted-level-0);\n",
       "}\n",
       "\n",
       "#sk-container-id-2 input.sk-toggleable__control:checked~div.sk-toggleable__content {\n",
       "  /* Expand drop-down */\n",
       "  max-height: 200px;\n",
       "  max-width: 100%;\n",
       "  overflow: auto;\n",
       "}\n",
       "\n",
       "#sk-container-id-2 input.sk-toggleable__control:checked~label.sk-toggleable__label-arrow:before {\n",
       "  content: \"▾\";\n",
       "}\n",
       "\n",
       "/* Pipeline/ColumnTransformer-specific style */\n",
       "\n",
       "#sk-container-id-2 div.sk-label input.sk-toggleable__control:checked~label.sk-toggleable__label {\n",
       "  color: var(--sklearn-color-text);\n",
       "  background-color: var(--sklearn-color-unfitted-level-2);\n",
       "}\n",
       "\n",
       "#sk-container-id-2 div.sk-label.fitted input.sk-toggleable__control:checked~label.sk-toggleable__label {\n",
       "  background-color: var(--sklearn-color-fitted-level-2);\n",
       "}\n",
       "\n",
       "/* Estimator-specific style */\n",
       "\n",
       "/* Colorize estimator box */\n",
       "#sk-container-id-2 div.sk-estimator input.sk-toggleable__control:checked~label.sk-toggleable__label {\n",
       "  /* unfitted */\n",
       "  background-color: var(--sklearn-color-unfitted-level-2);\n",
       "}\n",
       "\n",
       "#sk-container-id-2 div.sk-estimator.fitted input.sk-toggleable__control:checked~label.sk-toggleable__label {\n",
       "  /* fitted */\n",
       "  background-color: var(--sklearn-color-fitted-level-2);\n",
       "}\n",
       "\n",
       "#sk-container-id-2 div.sk-label label.sk-toggleable__label,\n",
       "#sk-container-id-2 div.sk-label label {\n",
       "  /* The background is the default theme color */\n",
       "  color: var(--sklearn-color-text-on-default-background);\n",
       "}\n",
       "\n",
       "/* On hover, darken the color of the background */\n",
       "#sk-container-id-2 div.sk-label:hover label.sk-toggleable__label {\n",
       "  color: var(--sklearn-color-text);\n",
       "  background-color: var(--sklearn-color-unfitted-level-2);\n",
       "}\n",
       "\n",
       "/* Label box, darken color on hover, fitted */\n",
       "#sk-container-id-2 div.sk-label.fitted:hover label.sk-toggleable__label.fitted {\n",
       "  color: var(--sklearn-color-text);\n",
       "  background-color: var(--sklearn-color-fitted-level-2);\n",
       "}\n",
       "\n",
       "/* Estimator label */\n",
       "\n",
       "#sk-container-id-2 div.sk-label label {\n",
       "  font-family: monospace;\n",
       "  font-weight: bold;\n",
       "  display: inline-block;\n",
       "  line-height: 1.2em;\n",
       "}\n",
       "\n",
       "#sk-container-id-2 div.sk-label-container {\n",
       "  text-align: center;\n",
       "}\n",
       "\n",
       "/* Estimator-specific */\n",
       "#sk-container-id-2 div.sk-estimator {\n",
       "  font-family: monospace;\n",
       "  border: 1px dotted var(--sklearn-color-border-box);\n",
       "  border-radius: 0.25em;\n",
       "  box-sizing: border-box;\n",
       "  margin-bottom: 0.5em;\n",
       "  /* unfitted */\n",
       "  background-color: var(--sklearn-color-unfitted-level-0);\n",
       "}\n",
       "\n",
       "#sk-container-id-2 div.sk-estimator.fitted {\n",
       "  /* fitted */\n",
       "  background-color: var(--sklearn-color-fitted-level-0);\n",
       "}\n",
       "\n",
       "/* on hover */\n",
       "#sk-container-id-2 div.sk-estimator:hover {\n",
       "  /* unfitted */\n",
       "  background-color: var(--sklearn-color-unfitted-level-2);\n",
       "}\n",
       "\n",
       "#sk-container-id-2 div.sk-estimator.fitted:hover {\n",
       "  /* fitted */\n",
       "  background-color: var(--sklearn-color-fitted-level-2);\n",
       "}\n",
       "\n",
       "/* Specification for estimator info (e.g. \"i\" and \"?\") */\n",
       "\n",
       "/* Common style for \"i\" and \"?\" */\n",
       "\n",
       ".sk-estimator-doc-link,\n",
       "a:link.sk-estimator-doc-link,\n",
       "a:visited.sk-estimator-doc-link {\n",
       "  float: right;\n",
       "  font-size: smaller;\n",
       "  line-height: 1em;\n",
       "  font-family: monospace;\n",
       "  background-color: var(--sklearn-color-background);\n",
       "  border-radius: 1em;\n",
       "  height: 1em;\n",
       "  width: 1em;\n",
       "  text-decoration: none !important;\n",
       "  margin-left: 1ex;\n",
       "  /* unfitted */\n",
       "  border: var(--sklearn-color-unfitted-level-1) 1pt solid;\n",
       "  color: var(--sklearn-color-unfitted-level-1);\n",
       "}\n",
       "\n",
       ".sk-estimator-doc-link.fitted,\n",
       "a:link.sk-estimator-doc-link.fitted,\n",
       "a:visited.sk-estimator-doc-link.fitted {\n",
       "  /* fitted */\n",
       "  border: var(--sklearn-color-fitted-level-1) 1pt solid;\n",
       "  color: var(--sklearn-color-fitted-level-1);\n",
       "}\n",
       "\n",
       "/* On hover */\n",
       "div.sk-estimator:hover .sk-estimator-doc-link:hover,\n",
       ".sk-estimator-doc-link:hover,\n",
       "div.sk-label-container:hover .sk-estimator-doc-link:hover,\n",
       ".sk-estimator-doc-link:hover {\n",
       "  /* unfitted */\n",
       "  background-color: var(--sklearn-color-unfitted-level-3);\n",
       "  color: var(--sklearn-color-background);\n",
       "  text-decoration: none;\n",
       "}\n",
       "\n",
       "div.sk-estimator.fitted:hover .sk-estimator-doc-link.fitted:hover,\n",
       ".sk-estimator-doc-link.fitted:hover,\n",
       "div.sk-label-container:hover .sk-estimator-doc-link.fitted:hover,\n",
       ".sk-estimator-doc-link.fitted:hover {\n",
       "  /* fitted */\n",
       "  background-color: var(--sklearn-color-fitted-level-3);\n",
       "  color: var(--sklearn-color-background);\n",
       "  text-decoration: none;\n",
       "}\n",
       "\n",
       "/* Span, style for the box shown on hovering the info icon */\n",
       ".sk-estimator-doc-link span {\n",
       "  display: none;\n",
       "  z-index: 9999;\n",
       "  position: relative;\n",
       "  font-weight: normal;\n",
       "  right: .2ex;\n",
       "  padding: .5ex;\n",
       "  margin: .5ex;\n",
       "  width: min-content;\n",
       "  min-width: 20ex;\n",
       "  max-width: 50ex;\n",
       "  color: var(--sklearn-color-text);\n",
       "  box-shadow: 2pt 2pt 4pt #999;\n",
       "  /* unfitted */\n",
       "  background: var(--sklearn-color-unfitted-level-0);\n",
       "  border: .5pt solid var(--sklearn-color-unfitted-level-3);\n",
       "}\n",
       "\n",
       ".sk-estimator-doc-link.fitted span {\n",
       "  /* fitted */\n",
       "  background: var(--sklearn-color-fitted-level-0);\n",
       "  border: var(--sklearn-color-fitted-level-3);\n",
       "}\n",
       "\n",
       ".sk-estimator-doc-link:hover span {\n",
       "  display: block;\n",
       "}\n",
       "\n",
       "/* \"?\"-specific style due to the `<a>` HTML tag */\n",
       "\n",
       "#sk-container-id-2 a.estimator_doc_link {\n",
       "  float: right;\n",
       "  font-size: 1rem;\n",
       "  line-height: 1em;\n",
       "  font-family: monospace;\n",
       "  background-color: var(--sklearn-color-background);\n",
       "  border-radius: 1rem;\n",
       "  height: 1rem;\n",
       "  width: 1rem;\n",
       "  text-decoration: none;\n",
       "  /* unfitted */\n",
       "  color: var(--sklearn-color-unfitted-level-1);\n",
       "  border: var(--sklearn-color-unfitted-level-1) 1pt solid;\n",
       "}\n",
       "\n",
       "#sk-container-id-2 a.estimator_doc_link.fitted {\n",
       "  /* fitted */\n",
       "  border: var(--sklearn-color-fitted-level-1) 1pt solid;\n",
       "  color: var(--sklearn-color-fitted-level-1);\n",
       "}\n",
       "\n",
       "/* On hover */\n",
       "#sk-container-id-2 a.estimator_doc_link:hover {\n",
       "  /* unfitted */\n",
       "  background-color: var(--sklearn-color-unfitted-level-3);\n",
       "  color: var(--sklearn-color-background);\n",
       "  text-decoration: none;\n",
       "}\n",
       "\n",
       "#sk-container-id-2 a.estimator_doc_link.fitted:hover {\n",
       "  /* fitted */\n",
       "  background-color: var(--sklearn-color-fitted-level-3);\n",
       "}\n",
       "</style><div id=\"sk-container-id-2\" class=\"sk-top-container\"><div class=\"sk-text-repr-fallback\"><pre>LogisticRegression(solver=&#x27;sag&#x27;)</pre><b>In a Jupyter environment, please rerun this cell to show the HTML representation or trust the notebook. <br />On GitHub, the HTML representation is unable to render, please try loading this page with nbviewer.org.</b></div><div class=\"sk-container\" hidden><div class=\"sk-item\"><div class=\"sk-estimator fitted sk-toggleable\"><input class=\"sk-toggleable__control sk-hidden--visually\" id=\"sk-estimator-id-2\" type=\"checkbox\" checked><label for=\"sk-estimator-id-2\" class=\"sk-toggleable__label fitted sk-toggleable__label-arrow fitted\">&nbsp;&nbsp;LogisticRegression<a class=\"sk-estimator-doc-link fitted\" rel=\"noreferrer\" target=\"_blank\" href=\"https://scikit-learn.org/1.4/modules/generated/sklearn.linear_model.LogisticRegression.html\">?<span>Documentation for LogisticRegression</span></a><span class=\"sk-estimator-doc-link fitted\">i<span>Fitted</span></span></label><div class=\"sk-toggleable__content fitted\"><pre>LogisticRegression(solver=&#x27;sag&#x27;)</pre></div> </div></div></div></div>"
      ],
      "text/plain": [
       "LogisticRegression(solver='sag')"
      ]
     },
     "metadata": {},
     "output_type": "display_data"
    }
   ],
   "source": [
    "model2"
   ]
  }
 ],
 "metadata": {
  "kernelspec": {
   "display_name": "Python 3",
   "language": "python",
   "name": "python3"
  },
  "language_info": {
   "codemirror_mode": {
    "name": "ipython",
    "version": 3
   },
   "file_extension": ".py",
   "mimetype": "text/x-python",
   "name": "python",
   "nbconvert_exporter": "python",
   "pygments_lexer": "ipython3",
   "version": "3.12.1"
  }
 },
 "nbformat": 4,
 "nbformat_minor": 2
}
