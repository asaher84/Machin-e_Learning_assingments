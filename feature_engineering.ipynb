{
 "cells": [
  {
   "cell_type": "code",
   "execution_count": null,
   "metadata": {},
   "outputs": [],
   "source": [
    "#Q1.What is a parameter\n",
    "'''\n",
    "Parameters are the internal variables of a model that are learned from the training data.\n",
    "'''"
   ]
  },
  {
   "cell_type": "code",
   "execution_count": null,
   "metadata": {},
   "outputs": [],
   "source": [
    "# Q2.What is correlation?\n",
    "'''\n",
    "The relation between two features in a dataset is called correlation.\n",
    "the statistical measurment that shows how two or more variables are related each other.\n",
    "'''\n",
    "# What does negative correlation mean?\n",
    "'''\n",
    "the correaltion have two types : 1. Possitive or direct correlation , 2. Negative or indirect correlation\n",
    "Negative Correlation : negative correlation means two variable's change in opposite direction \n",
    "'''"
   ]
  },
  {
   "cell_type": "code",
   "execution_count": null,
   "metadata": {},
   "outputs": [],
   "source": [
    "#Q3. Define Machine Learning. What are the main components in Machine Learning?\n",
    "'''\n",
    "Machine Learning means make machine(model) that learns the pattern and relation's between data and predicts the output for new data , machine learns the patterns and relation's from previous data and based on that predict output for new data.\n",
    "main components in machine learning: 1. Model , 2. Data , 3. Depedenacies \n",
    "'''"
   ]
  },
  {
   "cell_type": "code",
   "execution_count": null,
   "metadata": {},
   "outputs": [],
   "source": [
    "#Q4. How does loss value help in determining whether the model is good or not?\n",
    "'''\n",
    "loss value is the summation of errors . when loss value is less then model train good and better. \n",
    "'''"
   ]
  },
  {
   "cell_type": "code",
   "execution_count": null,
   "metadata": {},
   "outputs": [],
   "source": [
    "#Q5. What are continuous and categorical variables?\n",
    "'''\n",
    "continuous variables : continous variables means the variables that have numeric values and that are increases continuosly.\n",
    "categorical variables: categorical varibales means the that are have categorical values such as string or text\n",
    "'''"
   ]
  },
  {
   "cell_type": "code",
   "execution_count": null,
   "metadata": {},
   "outputs": [],
   "source": [
    "#Q6. How do we handle categorical variables in Machine Learning? What are the common techniques?\n",
    "'''\n",
    "In machine learning we can handle the categorical values using LabelEncoder and OnehotEncoding .\n",
    "for missing categorical data we can used the mode statistical method.\n",
    "'''"
   ]
  },
  {
   "cell_type": "code",
   "execution_count": null,
   "metadata": {},
   "outputs": [],
   "source": [
    "#Q7. What do you mean by training and testing a dataset?\n",
    "'''\n",
    "Training data is that data on which we can train the model and after that we can check the model can work accurataly or not on new data this data is known as testing data\n",
    "'''"
   ]
  },
  {
   "cell_type": "code",
   "execution_count": null,
   "metadata": {},
   "outputs": [],
   "source": [
    "#Q8. What is sklearn.preprocessing?\n",
    "'''\n",
    "sklearn is the library in which the machine learning algorithems are predefined . \n",
    "there is need of prepared the data before training for that we can used multiple preprocessing methods like LabelEncoder , OneHotEncoding ect. that all predefined classes we can import from sklearn.preprocessing.\n",
    "'''"
   ]
  },
  {
   "cell_type": "code",
   "execution_count": null,
   "metadata": {},
   "outputs": [],
   "source": [
    "#Q9. What is a Test set?\n",
    "'''\n",
    "Test set is separate set of data that can used to evaluate the how well model performs on unseen data\n",
    "'''"
   ]
  },
  {
   "cell_type": "code",
   "execution_count": null,
   "metadata": {},
   "outputs": [],
   "source": [
    "#Q10. How do we split data for model fitting (training and testing) in Python?\n",
    "'''\n",
    "We can used the module called train_test_split for split the training and testing data.\n",
    "'''\n",
    "#  How do you approach a Machine Learning problem?\n",
    "'''\n",
    "there are some following steps for approaching machine learning problems: \n",
    "1. Understand the problem and data\n",
    "2. Perform EDA (Exploratory Data analysis)\n",
    "3. perpared the data \n",
    "4. split the data into traing and testing set\n",
    "5. traing and fit the model on traing data \n",
    "6. Model Evaluation\n",
    "'''"
   ]
  },
  {
   "cell_type": "code",
   "execution_count": null,
   "metadata": {},
   "outputs": [],
   "source": [
    "#Q11. Why do we have to perform EDA before fitting a model to the data?\n",
    "'''\n",
    "using EDA we can understand the relation's between variables . \n",
    "also in EDA we prepared the data in well desired form so we can train the model efficently.\n",
    "'''"
   ]
  },
  {
   "cell_type": "code",
   "execution_count": null,
   "metadata": {},
   "outputs": [],
   "source": [
    "#Q12. What is correlation?\n",
    "'''\n",
    "Correlation means statistical measurement that shows how to variables are related each other.\n",
    "'''"
   ]
  },
  {
   "cell_type": "code",
   "execution_count": null,
   "metadata": {},
   "outputs": [],
   "source": [
    "#Q13. What does negative correlation mean?\n",
    "'''\n",
    "negative correlation means two variables are related in opposite. when one variable increases another variable are decreases.\n",
    "'''"
   ]
  },
  {
   "cell_type": "code",
   "execution_count": null,
   "metadata": {},
   "outputs": [],
   "source": [
    "#Q14. How can you find correlation between variables in Python?\n",
    "'''\n",
    "In python we can find the correlation between two varibales using statistic and scipy library\n",
    "'''"
   ]
  },
  {
   "cell_type": "code",
   "execution_count": null,
   "metadata": {},
   "outputs": [],
   "source": [
    "#Q15. What is causation? Explain difference between correlation and causation with an example\n",
    "'''\n",
    "Correlation means statistical association between two varibales .\n",
    "causation means change in one variable causes change in another variable.\n",
    "'''"
   ]
  },
  {
   "cell_type": "code",
   "execution_count": null,
   "metadata": {},
   "outputs": [],
   "source": [
    "#Q16. What is an Optimizer? What are different types of optimizers? Explain each with an example.\n",
    "'''\n",
    "Optimizer is a algorithm that changes a parameters in a direction that reduce a loss function and improves a model performance.\n",
    "the multiple optimizer are used in machine learning like a Gadient decent and stochastics gradient decent.\n",
    "'''"
   ]
  },
  {
   "cell_type": "code",
   "execution_count": null,
   "metadata": {},
   "outputs": [],
   "source": [
    "#Q17. What is sklearn.linear_model ?\n",
    "'''\n",
    "sklearn.linear_model is package that includes a linear regression models and algorithms.\n",
    "'''"
   ]
  },
  {
   "cell_type": "code",
   "execution_count": null,
   "metadata": {},
   "outputs": [],
   "source": [
    "#Q18. What does model.fit() do? What arguments must be given\n",
    "'''\n",
    "we used the '.fit' function in machine learning to fit the model on training data. we gives the x_train and y_train data(arguments) to these function.\n",
    "'''"
   ]
  },
  {
   "cell_type": "code",
   "execution_count": null,
   "metadata": {},
   "outputs": [],
   "source": [
    "#Q19. What does model.predict() do? What arguments must be given?\n",
    "'''\n",
    "in machine learning we used the model.predict to predict the output for new data. \n",
    "we gives the x_test data to these function.\n",
    "'''"
   ]
  },
  {
   "cell_type": "code",
   "execution_count": null,
   "metadata": {},
   "outputs": [],
   "source": [
    "#Q20. What are continuous and categorical variables?\n",
    "'''\n",
    "continuous variables means a variables that have numeric values which are continuously increases. the dtype of continuous varibles are generly float or integer.\n",
    "categorical variables means a variable that have descrete values which are in cetegorical format.\n",
    "'''"
   ]
  },
  {
   "cell_type": "code",
   "execution_count": null,
   "metadata": {},
   "outputs": [],
   "source": [
    "#Q21. What is feature scaling? How does it help in Machine Learning\n",
    "'''\n",
    "feature scaling means scale the variables values . in feature scaling we transform the variables values in specific range.\n",
    "In machine learning feature scaling helps to reduce the model training computation time.\n",
    "'''"
   ]
  },
  {
   "cell_type": "code",
   "execution_count": null,
   "metadata": {},
   "outputs": [],
   "source": [
    "#Q22. How do we perform scaling in Python?\n",
    "'''\n",
    "In pyhton we can used the StandardSaler to done the scaling.\n",
    "'''"
   ]
  },
  {
   "cell_type": "code",
   "execution_count": null,
   "metadata": {},
   "outputs": [],
   "source": [
    "#Q23. What is sklearn.preprocessing?\n",
    "'''\n",
    "sklearn.preprocessing used to import the class or modules which are used in data preprocessing in machine learning.\n",
    "'''"
   ]
  },
  {
   "cell_type": "code",
   "execution_count": null,
   "metadata": {},
   "outputs": [],
   "source": [
    "#Q24. How do we split data for model fitting (training and testing) in Python?\n",
    "'''\n",
    "Using train_test_split we can split the data for training and testing.\n",
    "'''"
   ]
  },
  {
   "cell_type": "code",
   "execution_count": null,
   "metadata": {},
   "outputs": [],
   "source": [
    "#Q25. Explain data encoding?\n",
    "'''\n",
    "Data Encoding means tranform the categorical data into numeric value .\n",
    "we can used the OneHotEncoding to do the data encoding.\n",
    "'''"
   ]
  }
 ],
 "metadata": {
  "kernelspec": {
   "display_name": "Python 3",
   "language": "python",
   "name": "python3"
  },
  "language_info": {
   "name": "python",
   "version": "3.12.1"
  }
 },
 "nbformat": 4,
 "nbformat_minor": 2
}
